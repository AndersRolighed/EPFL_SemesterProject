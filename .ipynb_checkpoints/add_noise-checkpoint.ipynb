{
 "cells": [
  {
   "cell_type": "code",
   "execution_count": 5,
   "id": "beb5128a",
   "metadata": {},
   "outputs": [],
   "source": [
    "import torch\n",
    "from torchvision.datasets import MNIST\n",
    "from torchvision import transforms\n",
    "from torch.utils.data import DataLoader\n",
    "from torch.distributions import Poisson\n",
    "import matplotlib.pyplot as plt\n",
    "\n",
    "# Define lambda value for Poisson distribution\n",
    "lambda_val = 10  # Adjust this value to control the amount of noise\n",
    "\n",
    "# Define transform to add Poisson noise to an image\n",
    "class PoissonNoiseTransform(object):\n",
    "    def __init__(self, lambda_val):\n",
    "        self.lambda_val = lambda_val\n",
    "        self.poisson = Poisson(self.lambda_val)\n",
    "\n",
    "    def __call__(self, image):\n",
    "        noisy_image = self.poisson.sample(image.shape).to(torch.float32)\n",
    "        return torch.clamp(image + noisy_image, 0, 255).to(torch.uint8)\n",
    "\n",
    "# Load MNIST dataset with the specified transform\n",
    "transform = transforms.Compose([\n",
    "    transforms.ToTensor(),\n",
    "    PoissonNoiseTransform(lambda_val)\n",
    "])\n",
    "\n",
    "# Load MNIST training dataset\n",
    "train_dataset = MNIST(root='./data', train=True, download=True, transform=transform)\n",
    "train_loader = DataLoader(train_dataset, batch_size=1, shuffle=True)\n",
    "\n",
    "# Load MNIST test dataset\n",
    "test_dataset = MNIST(root='./data', train=False, download=True, transform=transform)\n",
    "test_loader = DataLoader(test_dataset, batch_size=1, shuffle=False)\n",
    "\n",
    "# Iterate over the training dataset to apply the Poisson noise transform\n",
    "# for images, labels in train_loader:\n",
    "    # Process each image and label as desired\n",
    "    # Here, the images will have Poisson noise added\n",
    "\n",
    "# Iterate over the test dataset to apply the Poisson noise transform\n",
    "# for images, labels in test_loader:\n",
    "    # Process each image and label as desired\n",
    "    # Here, the images will have Poisson noise added\n"
   ]
  },
  {
   "cell_type": "code",
   "execution_count": 10,
   "id": "3b3b974c",
   "metadata": {},
   "outputs": [
    {
     "data": {
      "image/png": "[encoded data removed]",
      "text/plain": [
       "<Figure size 640x480 with 2 Axes>"
      ]
     },
     "metadata": {},
     "output_type": "display_data"
    }
   ],
   "source": [
    "# Define lambda value for Poisson distribution\n",
    "lambda_val = 10  # Adjust this value to control the amount of noise\n",
    "\n",
    "# Define transform to add Poisson noise to an image\n",
    "class PoissonNoiseTransform(object):\n",
    "    def __init__(self, lambda_val):\n",
    "        self.lambda_val = lambda_val\n",
    "        self.poisson = Poisson(self.lambda_val)\n",
    "\n",
    "    def __call__(self, image):\n",
    "        noisy_image = self.poisson.sample(image.shape).to(torch.float32)\n",
    "        return torch.clamp(image + noisy_image, 0, 255).to(torch.uint8)\n",
    "\n",
    "# Load MNIST dataset with the specified transform\n",
    "transform = transforms.Compose([\n",
    "    transforms.ToTensor(),\n",
    "    PoissonNoiseTransform(lambda_val)\n",
    "])\n",
    "\n",
    "# Load MNIST test dataset\n",
    "test_dataset = MNIST(root='./data', train=False, download=True, transform=transform)\n",
    "test_loader = DataLoader(test_dataset, batch_size=1, shuffle=False)\n",
    "\n",
    "# Iterate over the test dataset to apply the Poisson noise transform\n",
    "for images, labels in test_loader:\n",
    "    # Get a single image and its label\n",
    "    image = images[0]\n",
    "    label = labels[0]\n",
    "\n",
    "    # Convert image tensor to numpy array and squeeze the dimensions\n",
    "    image_np = image.squeeze().numpy()\n",
    "\n",
    "    # Plot the original and noisy images\n",
    "    plt.figure()\n",
    "    plt.subplot(1, 2, 1)\n",
    "    plt.title(\"Original Image (Label: {})\".format(label))\n",
    "    plt.imshow(image_np, cmap='gray')\n",
    "    plt.subplot(1, 2, 2)\n",
    "    plt.title(\"Noisy Image (Poisson Noise)\")\n",
    "    plt.imshow(image_np, cmap='gray')\n",
    "    plt.show()\n",
    "\n",
    "    # Exit the loop after displaying one image\n",
    "    break\n"
   ]
  },
  {
   "cell_type": "code",
   "execution_count": null,
   "id": "73098c2c",
   "metadata": {},
   "outputs": [],
   "source": []
  }
 ],
 "metadata": {
  "kernelspec": {
   "display_name": "Python 3 (ipykernel)",
   "language": "python",
   "name": "python3"
  },
  "language_info": {
   "codemirror_mode": {
    "name": "ipython",
    "version": 3
   },
   "file_extension": ".py",
   "mimetype": "text/x-python",
   "name": "python",
   "nbconvert_exporter": "python",
   "pygments_lexer": "ipython3",
   "version": "3.9.16"
  }
 },
 "nbformat": 4,
 "nbformat_minor": 5
}
