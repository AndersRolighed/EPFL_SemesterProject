{
 "cells": [
  {
   "cell_type": "markdown",
   "id": "3da8e7f9",
   "metadata": {},
   "source": [
    "### FedAvg algorithm, currently working for both Logistic Regression and 1 hidden layer NN.\n",
    "##### See bottom for specific calls\n",
    "https://towardsdatascience.com/logistic-regression-with-pytorch-3c8bbea594be\n"
   ]
  },
  {
   "cell_type": "code",
   "execution_count": 1,
   "id": "0656c44c",
   "metadata": {},
   "outputs": [],
   "source": [
    "%run -i DataCorruption.ipynb"
   ]
  },
  {
   "cell_type": "code",
   "execution_count": 93,
   "id": "c0661451",
   "metadata": {},
   "outputs": [],
   "source": [
    "import torch\n",
    "from torch import nn, optim\n",
    "from torchvision import datasets, transforms\n",
    "import torch.nn.functional as F"
   ]
  },
  {
   "cell_type": "markdown",
   "id": "f2e8a6e7",
   "metadata": {},
   "source": [
    "## MODELS"
   ]
  },
  {
   "cell_type": "code",
   "execution_count": 33,
   "id": "2549b91c",
   "metadata": {},
   "outputs": [],
   "source": [
    "class NeuralNetwork(nn.Module):\n",
    "    def __init__(self, model_params):\n",
    "        super(NeuralNetwork, self).__init__()\n",
    "        \n",
    "        input_dim = model_params[\"input_dim\"]\n",
    "        hidden_dim = model_params[\"hidden_dim\"]\n",
    "        output_dim = model_params[\"output_dim\"]\n",
    "        \n",
    "        self.linear1 = nn.Linear(input_dim, hidden_dim)\n",
    "        self.relu = nn.ReLU()\n",
    "        self.linear2 = nn.Linear(hidden_dim, output_dim)\n",
    "\n",
    "    def forward(self, x):\n",
    "        out = self.linear1(x)\n",
    "        out = self.relu(out)\n",
    "        out = self.linear2(out)\n",
    "        return out"
   ]
  },
  {
   "cell_type": "code",
   "execution_count": 125,
   "id": "f894fd3c",
   "metadata": {},
   "outputs": [],
   "source": [
    "class Net_MNIST(nn.Module):\n",
    "    def __init__(self, model_params):\n",
    "        super(Net_MNIST, self).__init__()\n",
    "        self.conv1 = nn.Conv2d(1, 16, 5)\n",
    "        self.pool1 = nn.MaxPool2d(2, 2)\n",
    "        self.conv2 = nn.Conv2d(16, 32, 5)\n",
    "        self.pool2 = nn.MaxPool2d(2, 2)\n",
    "        self.fc1 = nn.Linear(32 * 4 * 4, 120)\n",
    "        self.fc2 = nn.Linear(120, 84)\n",
    "        self.fc3 = nn.Linear(84, 10)\n",
    "        \n",
    "    def forward(self, x):\n",
    "            x = self.pool1(torch.relu(self.conv1(x)))\n",
    "            x = self.pool2(torch.relu(self.conv2(x)))\n",
    "            x = x.view(-1, 32 * 4 * 4)\n",
    "            x = torch.relu(self.fc1(x))\n",
    "            x = torch.relu(self.fc2(x))\n",
    "            x = self.fc3(x)\n",
    "            return x\n",
    "        \n",
    "        \n",
    "class Net_CIFAR10(nn.Module):\n",
    "    def __init__(self, model_params):\n",
    "        super(Net_CIFAR10, self).__init__()\n",
    "        self.conv1 = nn.Conv2d(3, 16, 5)\n",
    "        self.pool1 = nn.MaxPool2d(2, 2)\n",
    "        self.conv2 = nn.Conv2d(16, 32, 5)\n",
    "        self.pool2 = nn.MaxPool2d(2, 2)\n",
    "        self.fc1 = nn.Linear(32 * 5 * 5, 120)\n",
    "        self.fc2 = nn.Linear(120, 84)\n",
    "        self.fc3 = nn.Linear(84, 10)\n",
    "        \n",
    "    def forward(self, x):\n",
    "            x = self.pool1(torch.relu(self.conv1(x)))\n",
    "            x = self.pool2(torch.relu(self.conv2(x)))\n",
    "            x = x.view(-1, 32 * 5 * 5)\n",
    "            x = torch.relu(self.fc1(x))\n",
    "            x = torch.relu(self.fc2(x))\n",
    "            x = self.fc3(x)\n",
    "            return x\n",
    "        \n"
   ]
  },
  {
   "cell_type": "code",
   "execution_count": null,
   "id": "b0943827",
   "metadata": {},
   "outputs": [],
   "source": [
    "class LogisticRegression(nn.Module):\n",
    "    def __init__(self, model_params):\n",
    "        super(LogisticRegression, self).__init__()\n",
    "        \n",
    "        input_dim = model_params[\"input_dim\"]\n",
    "        output_dim = model_params[\"output_dim\"]\n",
    "        \n",
    "        self.linear = nn.Linear(input_dim, output_dim)\n",
    "\n",
    "    def forward(self, x):\n",
    "        out = self.linear(x)\n",
    "        return out\n"
   ]
  },
  {
   "cell_type": "markdown",
   "id": "bc72429e",
   "metadata": {},
   "source": [
    "## fedAvg algorithm"
   ]
  },
  {
   "cell_type": "code",
   "execution_count": 113,
   "id": "bc218b75",
   "metadata": {},
   "outputs": [],
   "source": [
    "\n",
    "# Currently only allows for scrambling of labels as the corruption method\n",
    "\n",
    "def FedAvg(model, data, model_params, training_params, corrupt=False, cp=0.5):\n",
    "    model_dict = {1: NeuralNetwork, 2: LogisticRegression, 3: \"Net\"}\n",
    "    model = model_dict[model]\n",
    "    \n",
    "    num_clients = training_params[\"num_clients\"]\n",
    "    epochs = training_params[\"epochs\"]\n",
    "    batch_size = training_params[\"batch_size\"]\n",
    "    lr = training_params[\"lr\"]\n",
    "    \n",
    "    \n",
    "    if data == \"MNIST\":\n",
    "        # Load MNIST dataset - Normalized (MEAN STD)\n",
    "        transform = transforms.Compose([transforms.ToTensor(), transforms.Normalize((0.1307,), (0.3081,))])\n",
    "        train_dataset = datasets.MNIST('../data', train=True, download=True, transform=transform)\n",
    "        if model == \"Net\":\n",
    "            model = Net_MNIST\n",
    "    \n",
    "    if data == \"CIFAR10\":\n",
    "        transform = transforms.Compose([\n",
    "            transforms.RandomHorizontalFlip(),\n",
    "            transforms.RandomCrop(32, padding=4),\n",
    "            transforms.ToTensor(),\n",
    "            transforms.Normalize((0.5, 0.5, 0.5), (0.5, 0.5, 0.5)),\n",
    "            ])\n",
    "        train_dataset = datasets.CIFAR10('../data', train=True, download=True, transform=transform)\n",
    "        if model == \"Net\":\n",
    "            model = Net_CIFAR10\n",
    "\n",
    "    # Split data among clients\n",
    "    client_datasets = torch.utils.data.random_split(train_dataset, [len(train_dataset) // num_clients] * num_clients)\n",
    "    \n",
    "    # Initialize global model\n",
    "    central_model = model(model_params)\n",
    "\n",
    "    # Train global model using federated averaging\n",
    "    central_optimizer = optim.SGD(central_model.parameters(), lr=lr)\n",
    "    central_criterion = nn.CrossEntropyLoss()\n",
    "\n",
    "    for epoch in range(epochs):\n",
    "        central_model.train()\n",
    "\n",
    "        # Train local models on each client\n",
    "        local_models = []\n",
    "        for client_dataset in client_datasets:\n",
    "            local_model = model(model_params)\n",
    "            local_model.load_state_dict(central_model.state_dict())\n",
    "            local_optimizer = optim.SGD(local_model.parameters(), lr=lr, momentum=0.9)\n",
    "            local_criterion = nn.CrossEntropyLoss()\n",
    "\n",
    "            for local_epoch in range(epochs):\n",
    "                local_model.train()\n",
    "\n",
    "                for local_data, local_target in torch.utils.data.DataLoader(client_dataset, batch_size=batch_size, shuffle=True):\n",
    "                    if corrupt:\n",
    "                        local_target = torch.as_tensor(data_corruption(3, local_data, local_target.tolist(), cp)).type(torch.LongTensor)\n",
    "                    local_optimizer.zero_grad()\n",
    "                    if model == Net_MNIST or model == Net_CIFAR10:\n",
    "                        local_output = local_model(local_data)\n",
    "                    else:\n",
    "                        local_output = local_model(local_data.view(local_data.shape[0], -1))\n",
    "                        \n",
    "                    local_loss = local_criterion(local_output, local_target)\n",
    "                    local_loss.backward()\n",
    "                    local_optimizer.step()\n",
    "\n",
    "            local_models.append(local_model)\n",
    "\n",
    "        # Update central model using federated averaging\n",
    "        for name, param in central_model.named_parameters():\n",
    "            if name.endswith('.bias'):\n",
    "                continue\n",
    "\n",
    "            local_params = torch.stack([local_model.state_dict()[name] for local_model in local_models])\n",
    "            central_mean = local_params.mean(0)\n",
    "            param.data = central_mean.data\n",
    "\n",
    "        central_loss = 0\n",
    "        central_accuracy = 0\n",
    "        central_optimizer.zero_grad()\n",
    "\n",
    "        for central_data, central_target in torch.utils.data.DataLoader(train_dataset, batch_size=batch_size, shuffle=True):\n",
    "            if model == Net_MNIST or model == Net_CIFAR10:\n",
    "                central_output = central_model(central_data)\n",
    "            else:\n",
    "                central_output = central_model(central_data.view(central_data.shape[0], -1))\n",
    "            central_loss += central_criterion(central_output, central_target)\n",
    "            central_accuracy += (central_output.argmax(1) == central_target).float().sum()\n",
    "\n",
    "        central_loss /= len(train_dataset)\n",
    "        central_accuracy /= len(train_dataset)\n",
    "\n",
    "        central_loss.backward()\n",
    "        central_optimizer.step()\n",
    "\n",
    "        print(f'Epoch {epoch+1} - Global Training Loss: {central_loss:.4f}, Global Training Accuracy: {central_accuracy:.4f}')\n"
   ]
  },
  {
   "cell_type": "markdown",
   "id": "d3bb4e0c",
   "metadata": {},
   "source": [
    "## Tests"
   ]
  },
  {
   "cell_type": "markdown",
   "id": "d6fe4dab",
   "metadata": {},
   "source": [
    "### NN on MNIST"
   ]
  },
  {
   "cell_type": "code",
   "execution_count": 119,
   "id": "ae4e8324",
   "metadata": {},
   "outputs": [
    {
     "name": "stdout",
     "output_type": "stream",
     "text": [
      "Epoch 1 - Global Training Loss: 0.0696, Global Training Accuracy: 0.3762\n",
      "Epoch 2 - Global Training Loss: 0.0696, Global Training Accuracy: 0.4639\n"
     ]
    }
   ],
   "source": [
    "training_params = {\"epochs\": 2, \"lr\": 0.01, \"batch_size\": 32, \"num_clients\": 4}\n",
    "model_params = {\"input_dim\": 784, \"hidden_dim\": 128, \"output_dim\": 10}\n",
    "FedAvg(1, \"MNIST\", model_params, training_params, corrupt=True, cp=0.9)"
   ]
  },
  {
   "cell_type": "markdown",
   "id": "4f463510",
   "metadata": {},
   "source": [
    "### Logistic Regression on MNIST"
   ]
  },
  {
   "cell_type": "code",
   "execution_count": 120,
   "id": "eb83de86",
   "metadata": {},
   "outputs": [
    {
     "name": "stdout",
     "output_type": "stream",
     "text": [
      "Epoch 1 - Global Loss: 0.0694, Global Accuracy: 0.2085\n",
      "Epoch 2 - Global Loss: 0.0683, Global Accuracy: 0.2913\n"
     ]
    }
   ],
   "source": [
    "training_params = {\"epochs\": 2, \"lr\": 0.01, \"batch_size\": 32, \"num_clients\": 4}\n",
    "model_params = {\"input_dim\": 728, \"output_dim\": 10}\n",
    "FedAvg(2, \"MNIST\", model_params, training_params, corrupt=True, cp=0.9)"
   ]
  },
  {
   "cell_type": "markdown",
   "id": "89666d27",
   "metadata": {},
   "source": [
    "### CNN on MNIST"
   ]
  },
  {
   "cell_type": "code",
   "execution_count": 111,
   "id": "559b583c",
   "metadata": {},
   "outputs": [
    {
     "name": "stdout",
     "output_type": "stream",
     "text": [
      "Epoch 1 - Global Training Loss: 0.0088, Global Training Accuracy: 0.9167\n",
      "Epoch 2 - Global Training Loss: 0.0043, Global Training Accuracy: 0.9589\n"
     ]
    }
   ],
   "source": [
    "training_params = {\"epochs\": 2, \"lr\": 0.01, \"batch_size\": 32, \"num_clients\": 4}\n",
    "model_params = {\"in_channels\": 1}\n",
    "FedAvg(3, \"MNIST\", model_params, training_params, corrupt=False, cp=0.9)"
   ]
  },
  {
   "cell_type": "markdown",
   "id": "c72e2c2d",
   "metadata": {},
   "source": [
    "### Logistic regression on CIFAR10"
   ]
  },
  {
   "cell_type": "code",
   "execution_count": 41,
   "id": "abca70af",
   "metadata": {},
   "outputs": [
    {
     "name": "stdout",
     "output_type": "stream",
     "text": [
      "Files already downloaded and verified\n",
      "Epoch 1 - Global Training Loss: 0.0729, Global Training Accuracy: 0.0916\n",
      "Epoch 2 - Global Training Loss: 0.0717, Global Training Accuracy: 0.1251\n"
     ]
    }
   ],
   "source": [
    "training_params = {\"epochs\": 2, \"lr\": 0.01, \"batch_size\": 32, \"num_clients\": 4}\n",
    "model_params = {\"input_dim\": 3072, \"output_dim\": 10}\n",
    "FedAvg(2, \"CIFAR10\", model_params, training_params, corrupt=True, cp=0.9)"
   ]
  },
  {
   "cell_type": "markdown",
   "id": "bca0832d",
   "metadata": {},
   "source": [
    "### NN on CIFAR10"
   ]
  },
  {
   "cell_type": "code",
   "execution_count": 43,
   "id": "3bc6b131",
   "metadata": {},
   "outputs": [
    {
     "name": "stdout",
     "output_type": "stream",
     "text": [
      "Files already downloaded and verified\n",
      "Epoch 1 - Global Training Loss: 0.0716, Global Training Accuracy: 0.1374\n",
      "Epoch 2 - Global Training Loss: 0.0716, Global Training Accuracy: 0.1451\n"
     ]
    }
   ],
   "source": [
    "training_params = {\"epochs\": 2, \"lr\": 0.01, \"batch_size\": 32, \"num_clients\": 4}\n",
    "model_params = {\"input_dim\": 3072, \"hidden_dim\": 256, \"output_dim\": 10}\n",
    "FedAvg(1, \"CIFAR10\", model_params, training_params, corrupt=True, cp=0.9)"
   ]
  },
  {
   "cell_type": "code",
   "execution_count": 132,
   "id": "6958f692",
   "metadata": {},
   "outputs": [
    {
     "name": "stdout",
     "output_type": "stream",
     "text": [
      "Files already downloaded and verified\n",
      "Epoch 1 - Global Training Loss: 0.0527, Global Training Accuracy: 0.4062\n",
      "Epoch 2 - Global Training Loss: 0.0496, Global Training Accuracy: 0.4424\n",
      "Epoch 3 - Global Training Loss: 0.0476, Global Training Accuracy: 0.4638\n",
      "Epoch 4 - Global Training Loss: 0.0464, Global Training Accuracy: 0.4793\n",
      "Epoch 5 - Global Training Loss: 0.0453, Global Training Accuracy: 0.4917\n",
      "Epoch 6 - Global Training Loss: 0.0444, Global Training Accuracy: 0.4991\n",
      "Epoch 7 - Global Training Loss: 0.0439, Global Training Accuracy: 0.5055\n",
      "Epoch 8 - Global Training Loss: 0.0435, Global Training Accuracy: 0.5061\n"
     ]
    }
   ],
   "source": [
    "training_params = {\"epochs\": 8, \"lr\": 0.01, \"batch_size\": 32, \"num_clients\": 4}\n",
    "model_params = {\"input_dim\": 3072, \"hidden_dim\": 256, \"output_dim\": 10}\n",
    "FedAvg(1, \"CIFAR10\", model_params, training_params, corrupt=False, cp=0.9)"
   ]
  },
  {
   "cell_type": "markdown",
   "id": "b9048d2c",
   "metadata": {},
   "source": [
    "### CNN on CIFAR10"
   ]
  },
  {
   "cell_type": "code",
   "execution_count": 126,
   "id": "c7c19af0",
   "metadata": {},
   "outputs": [
    {
     "name": "stdout",
     "output_type": "stream",
     "text": [
      "Files already downloaded and verified\n",
      "Epoch 1 - Global Training Loss: 0.0300, Global Training Accuracy: 0.2935\n",
      "Epoch 2 - Global Training Loss: 0.0337, Global Training Accuracy: 0.2567\n",
      "Epoch 3 - Global Training Loss: 0.0330, Global Training Accuracy: 0.2974\n",
      "Epoch 4 - Global Training Loss: 0.0310, Global Training Accuracy: 0.3210\n",
      "Epoch 5 - Global Training Loss: 0.0276, Global Training Accuracy: 0.3964\n",
      "Epoch 6 - Global Training Loss: 0.0247, Global Training Accuracy: 0.4512\n",
      "Epoch 7 - Global Training Loss: 0.0247, Global Training Accuracy: 0.4620\n",
      "Epoch 8 - Global Training Loss: 0.0255, Global Training Accuracy: 0.4565\n",
      "Epoch 9 - Global Training Loss: 0.0226, Global Training Accuracy: 0.5046\n",
      "Epoch 10 - Global Training Loss: 0.0215, Global Training Accuracy: 0.5321\n"
     ]
    }
   ],
   "source": [
    "training_params = {\"epochs\": 10, \"lr\": 0.01, \"batch_size\": 64, \"num_clients\": 4}\n",
    "model_params = {}\n",
    "FedAvg(3, \"CIFAR10\", model_params, training_params, corrupt=False, cp=0.9)"
   ]
  },
  {
   "cell_type": "markdown",
   "id": "ae7ff560",
   "metadata": {},
   "source": [
    "#### Simple training loop to test the CNN w/o federated learning"
   ]
  },
  {
   "cell_type": "code",
   "execution_count": 130,
   "id": "f10bf0c1",
   "metadata": {},
   "outputs": [
    {
     "name": "stdout",
     "output_type": "stream",
     "text": [
      "Files already downloaded and verified\n",
      "[Epoch 1] loss: 2.093 | accuracy: 21.180\n",
      "[Epoch 2] loss: 2.192 | accuracy: 16.078\n",
      "Finished Training\n"
     ]
    }
   ],
   "source": [
    "from torch.utils.data import DataLoader\n",
    "\n",
    "def train(model, trainloader, criterion, optimizer, epochs):\n",
    "    for epoch in range(epochs):\n",
    "        running_loss = 0.0\n",
    "        correct = 0\n",
    "        total = 0\n",
    "        for i, data in enumerate(trainloader, 0):\n",
    "            inputs, labels = data\n",
    "            optimizer.zero_grad()\n",
    "            outputs = model(inputs)\n",
    "            loss = criterion(outputs, labels)\n",
    "            loss.backward()\n",
    "            optimizer.step()\n",
    "            running_loss += loss.item()\n",
    "            \n",
    "            _, predicted = torch.max(outputs.data, 1)\n",
    "            total += labels.size(0)\n",
    "            correct += (predicted == labels).sum().item()\n",
    "            \n",
    "        epoch_loss = running_loss / len(trainloader)\n",
    "        epoch_acc = 100 * correct / total\n",
    "        print('[Epoch %d] loss: %.3f | accuracy: %.3f' % (epoch + 1, epoch_loss, epoch_acc))\n",
    "    \n",
    "    print('Finished Training')\n",
    "model_params = {}\n",
    "# Load the CIFAR10 dataset\n",
    "trainset = datasets.CIFAR10(root='./data', train=True, download=True, transform=transforms.ToTensor())\n",
    "trainloader = DataLoader(trainset, batch_size=4, shuffle=True, num_workers=2)\n",
    "\n",
    "# Define the model, loss function, and optimizer\n",
    "net = Net_CIFAR10(model_params)\n",
    "criterion = torch.nn.CrossEntropyLoss()\n",
    "optimizer = torch.optim.SGD(net.parameters(), lr=0.01, momentum=0.9)\n",
    "\n",
    "# Train the model\n",
    "train(net, trainloader, criterion, optimizer, epochs=2)"
   ]
  },
  {
   "cell_type": "markdown",
   "id": "44f795c2",
   "metadata": {},
   "source": [
    "### Random Forest - Scikit-Learn"
   ]
  },
  {
   "cell_type": "code",
   "execution_count": null,
   "id": "fd198b0a",
   "metadata": {},
   "outputs": [],
   "source": [
    "from sklearn.ensemble import RandomForestClassifier\n",
    "\n",
    "# Load the MNIST dataset\n",
    "train_dataset = datasets.MNIST(root='./data', train=True, transform=transforms.ToTensor(), download=False)\n",
    "test_dataset = datasets.MNIST(root='./data', train=False, transform=transforms.ToTensor(), download=False)\n",
    "\n",
    "# Extract the features and labels from the dataset\n",
    "X_train = train_dataset.data.view(len(train_dataset), -1).numpy()\n",
    "y_train = train_dataset.targets.numpy()\n",
    "X_test = test_dataset.data.view(len(test_dataset), -1).numpy()\n",
    "y_test = test_dataset.targets.numpy()\n",
    "\n",
    "# Initialize the Random Forest classifier\n",
    "rf = RandomForestClassifier(n_estimators=100, random_state=42)\n",
    "\n",
    "# Train the classifier\n",
    "rf.fit(X_train, y_train)\n",
    "\n",
    "# Evaluate the classifier on the test set\n",
    "accuracy = rf.score(X_test, y_test)\n",
    "\n",
    "print(f\"Test accuracy: {accuracy}\")"
   ]
  }
 ],
 "metadata": {
  "kernelspec": {
   "display_name": "Python 3 (ipykernel)",
   "language": "python",
   "name": "python3"
  },
  "language_info": {
   "codemirror_mode": {
    "name": "ipython",
    "version": 3
   },
   "file_extension": ".py",
   "mimetype": "text/x-python",
   "name": "python",
   "nbconvert_exporter": "python",
   "pygments_lexer": "ipython3",
   "version": "3.9.16"
  }
 },
 "nbformat": 4,
 "nbformat_minor": 5
}
