{
 "cells": [
  {
   "cell_type": "code",
   "execution_count": 220,
   "id": "d3f250b6",
   "metadata": {},
   "outputs": [],
   "source": [
    "import numpy as np\n",
    "import tensorflow as tf\n",
    "from sklearn import datasets\n",
    "import matplotlib.pyplot as plt\n",
    "import random\n",
    "from random import randrange"
   ]
  },
  {
   "cell_type": "code",
   "execution_count": 315,
   "id": "b34cacc5",
   "metadata": {},
   "outputs": [],
   "source": [
    "methods_dict = {1:\"Missing_Data\", 2:\"Outliers\", 3:\"Labeling_Errors\", 4:\"Feature_Noise\"} \n",
    "def data_corruption(method, data, labels, corrupt_p):\n",
    "    corruption_method = methods_dict[method]\n",
    "    if corrupt_p <= 0 or corrupt_p >= 1:\n",
    "        print(\"Please choose a valid value for the corruption parameter (positive, above 0 and less than 1.)\")\n",
    "        return None\n",
    "    \n",
    "    \n",
    "    # Go through each image, and create a randomized mask which sets pixels to a value of 0.\n",
    "    data_corrupted = []\n",
    "    if corruption_method == \"Missing_Data\":\n",
    "        for image in data:\n",
    "            mask = np.zeros(image.shape[0], dtype=int)\n",
    "            mask[int(image.shape[0]*corrupt_p):] = 1\n",
    "            random.shuffle(mask)\n",
    "            mask = mask.astype(bool)\n",
    "            corrupted_image = np.where(mask == False, 0, image)\n",
    "            data_corrupted.append(corrupted_image)\n",
    "        \n",
    "        return data_corrupted\n",
    "    \n",
    "    if corruption_method == \"Outliers\":\n",
    "        print(\"not yet implemented\")\n",
    "        \n",
    "    if corruption_method == \"Labeling_Errors\":\n",
    "        if len(labels) > 0:\n",
    "            mask = np.zeros(len(labels), dtype=int)\n",
    "            mask[int(len(labels)*corrupt_p):] = 1\n",
    "            random.shuffle(mask)\n",
    "            mask = mask.astype(bool)\n",
    "            corrupted_labels = np.where(mask == False, \"needs_change\", labels)\n",
    "            for i in range(len(labels)):\n",
    "                if corrupted_labels[i] == \"needs_change\":\n",
    "                    options = np.delete(name, np.where(np.unique(labels) == labels[i]))\n",
    "                    corrupted_labels[i] = random.choice(options)\n",
    "\n",
    "            \n",
    "            return corrupted_labels\n",
    "        \n",
    "        \n",
    "        else:\n",
    "            print(\"Please use an actual list for the labels\")\n",
    "        \n",
    "    if corruption_method == \"Feature_Noise\":\n",
    "        print(\"not yet implemented\")\n",
    "    "
   ]
  },
  {
   "cell_type": "code",
   "execution_count": 191,
   "id": "a50b0df1",
   "metadata": {},
   "outputs": [
    {
     "data": {
      "image/png": "[encoded data removed]",
      "text/plain": [
       "<Figure size 300x300 with 1 Axes>"
      ]
     },
     "metadata": {},
     "output_type": "display_data"
    },
    {
     "data": {
      "image/png": "[encoded data removed]",
      "text/plain": [
       "<Figure size 300x300 with 1 Axes>"
      ]
     },
     "metadata": {},
     "output_type": "display_data"
    }
   ],
   "source": [
    "digits_matrix = datasets.load_digits().data\n",
    "labels = datasets.load_digits().target\n",
    "name = datasets.load_digits().target_names\n",
    "k = 2\n",
    "\n",
    "imgs_corrupted = data_corruption(1, digits_matrix[:k], None, 0.1)\n",
    "for i in range(len(digits_matrix[:k])):\n",
    "    plt.figure(figsize=(3,3))\n",
    "    plt.imshow(imgs_corrupted[i].reshape(8,8))\n",
    "    plt.show()"
   ]
  },
  {
   "cell_type": "code",
   "execution_count": 323,
   "id": "947c9aed",
   "metadata": {},
   "outputs": [
    {
     "name": "stdout",
     "output_type": "stream",
     "text": [
      "[2 9 7 9 4 6 8 8 1 8 2 7 7 8 8 5 3 8 3 2]\n",
      "[0 1 2 3 4 5 6 7 8 9 0 1 2 3 4 5 6 7 8 9]\n"
     ]
    }
   ],
   "source": [
    "digits_matrix = datasets.load_digits().data\n",
    "labels = datasets.load_digits().target\n",
    "name = datasets.load_digits().target_names\n",
    "\n",
    "k=20\n",
    "\n",
    "\n",
    "labels_corrupted = data_corruption(3, digits_matrix[:k], labels[:k], 0.9)\n",
    "print(labels_corrupted.astype(int))\n",
    "print(labels[:20])"
   ]
  },
  {
   "cell_type": "markdown",
   "id": "60eef744",
   "metadata": {},
   "source": [
    "Mangler at finde ud af hvordan jeg ændrer på dataen, så det ikke bliver den samme værdi hver gang den bliver ændret til (label værdi) ud af de labelværdier som ligger i dataen. Skal have det sådan at labelen som bliver erstattet, bliver erstattet af en tilfældig af de andre labels. Dertil skal man vide hvilken label der var der forud for skiftet. LØST"
   ]
  },
  {
   "cell_type": "markdown",
   "id": "dffae046",
   "metadata": {},
   "source": [
    "Mangler at identificere typen af labels, for at vide om den corruptede liste skal castes som int eller strings eller andet."
   ]
  }
 ],
 "metadata": {
  "kernelspec": {
   "display_name": "Python 3 (ipykernel)",
   "language": "python",
   "name": "python3"
  },
  "language_info": {
   "codemirror_mode": {
    "name": "ipython",
    "version": 3
   },
   "file_extension": ".py",
   "mimetype": "text/x-python",
   "name": "python",
   "nbconvert_exporter": "python",
   "pygments_lexer": "ipython3",
   "version": "3.9.16"
  }
 },
 "nbformat": 4,
 "nbformat_minor": 5
}
