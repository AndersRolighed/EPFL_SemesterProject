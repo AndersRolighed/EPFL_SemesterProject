{
 "cells": [
  {
   "cell_type": "code",
   "execution_count": 17,
   "id": "d3f250b6",
   "metadata": {},
   "outputs": [],
   "source": [
    "import numpy as np\n",
    "from sklearn import datasets\n",
    "import matplotlib.pyplot as plt\n",
    "import random\n",
    "from random import randrange"
   ]
  },
  {
   "cell_type": "code",
   "execution_count": 161,
   "id": "b34cacc5",
   "metadata": {},
   "outputs": [],
   "source": [
    "methods_dict = {1:\"Missing_Data\", 2:\"Outliers\", 3:\"Labeling_Errors\", 4:\"Feature_Noise\"} \n",
    "def data_corruption(method, data, labels, corrupt_p):\n",
    "    corruption_method = methods_dict[method]\n",
    "    if corrupt_p <= 0 or corrupt_p >= 1:\n",
    "        print(\"Please choose a valid value for the corruption parameter (positive, above 0 and less than 1.)\")\n",
    "        return None\n",
    "    \n",
    "    \n",
    "    # Go through each image, and create a randomized mask which sets pixels to a value of 0.\n",
    "    data_corrupted = []\n",
    "    if corruption_method == \"Missing_Data\":\n",
    "        for image in data:\n",
    "            mask = np.zeros(image.shape[0], dtype=int)\n",
    "            mask[int(image.shape[0]*corrupt_p):] = 1\n",
    "            random.shuffle(mask)\n",
    "            mask = mask.astype(bool)\n",
    "            corrupted_image = np.where(mask == False, 0, image)\n",
    "            data_corrupted.append(corrupted_image)\n",
    "        \n",
    "        return data_corrupted\n",
    "    \n",
    "    if corruption_method == \"Outliers\":\n",
    "        print(\"not yet implemented\")\n",
    "        \n",
    "    if corruption_method == \"Labeling_Errors\":\n",
    "        if len(labels) > 0:\n",
    "            label_names = np.unique(labels)\n",
    "            mask = np.zeros(len(labels), dtype=int)\n",
    "            mask[int(len(labels)*corrupt_p):] = 1\n",
    "            random.shuffle(mask)\n",
    "            mask = mask.astype(bool)\n",
    "            corrupted_labels = np.where(mask == False, \"needs_change\", labels)\n",
    "            for i in range(len(labels)):\n",
    "                if corrupted_labels[i] == \"needs_change\":\n",
    "                    options = np.delete(label_names, np.where(np.unique(labels) == labels[i])) ## Using np.unique to find the set of labels.\n",
    "                    corrupted_labels[i] = random.choice(options)\n",
    "\n",
    "            corrupted_labels = corrupted_labels.astype(type(labels[i]))\n",
    "            return corrupted_labels\n",
    "        \n",
    "        \n",
    "        else:\n",
    "            print(\"Please use an actual list for the labels\")\n",
    "        \n",
    "    if corruption_method == \"Feature_Noise\":\n",
    "        print(\"not yet implemented\")\n",
    "    "
   ]
  },
  {
   "cell_type": "code",
   "execution_count": 20,
   "id": "a50b0df1",
   "metadata": {},
   "outputs": [],
   "source": [
    "#digits_matrix = datasets.load_digits().data\n",
    "#labels = datasets.load_digits().target\n",
    "#name = datasets.load_digits().target_names\n",
    "#k = 2\n",
    "\n",
    "#imgs_corrupted = data_corruption(1, digits_matrix[:k], None, 0.3)\n",
    "#for i in range(len(digits_matrix[:k])):\n",
    "#    plt.figure(figsize=(3,3))\n",
    "#    plt.imshow(imgs_corrupted[i].reshape(8,8))\n",
    "#    plt.show()"
   ]
  },
  {
   "cell_type": "code",
   "execution_count": 159,
   "id": "947c9aed",
   "metadata": {},
   "outputs": [],
   "source": [
    "#digits_matrix = datasets.load_digits().data\n",
    "#labels = datasets.load_digits().target\n",
    "#label_names = datasets.load_digits().target_names\n",
    "\n",
    "#k=32\n",
    "#labels_corrupted = data_corruption(3, digits_matrix[:k], [5, 7, 6, 7, 0, 9, 4, 5, 4, 6, 0, 0, 4, 5, 6, 9, 1, 3, 9, 2, 4, 1, 9, 5, 7, 6, 1, 6, 4, 2, 0, 2], 0.9)\n",
    "#print(labels_corrupted)"
   ]
  },
  {
   "cell_type": "code",
   "execution_count": 160,
   "id": "a4e596ff",
   "metadata": {},
   "outputs": [],
   "source": [
    "#np.unique([8, 4, 4, 7, 7, 9, 5, 3, 2, 5, 0, 5, 8, 1, 5, 3, 0, 9, 6, 4, 1, 2, 1, 7, 6, 8, 5, 8, 7, 7, 6, 0])"
   ]
  }
 ],
 "metadata": {
  "kernelspec": {
   "display_name": "Python 3 (ipykernel)",
   "language": "python",
   "name": "python3"
  },
  "language_info": {
   "codemirror_mode": {
    "name": "ipython",
    "version": 3
   },
   "file_extension": ".py",
   "mimetype": "text/x-python",
   "name": "python",
   "nbconvert_exporter": "python",
   "pygments_lexer": "ipython3",
   "version": "3.9.16"
  }
 },
 "nbformat": 4,
 "nbformat_minor": 5
}
