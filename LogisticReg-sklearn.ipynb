{
 "cells": [
  {
   "cell_type": "code",
   "execution_count": 128,
   "id": "f9c9d688",
   "metadata": {},
   "outputs": [],
   "source": [
    "import numpy as np \n",
    "import matplotlib.pyplot as plt\n",
    "\n",
    "# Used for Confusion Matrix\n",
    "from sklearn import metrics\n",
    "import seaborn as sns\n",
    "\n",
    "# Used for Loading MNIST\n",
    "from struct import unpack\n",
    "\n",
    "%matplotlib inline"
   ]
  },
  {
   "cell_type": "code",
   "execution_count": 129,
   "id": "b68b342f",
   "metadata": {},
   "outputs": [],
   "source": [
    "from sklearn import datasets\n",
    "import random\n",
    "from random import randrange\n",
    "from sklearn.model_selection import train_test_split\n",
    "from sklearn.linear_model import LogisticRegression "
   ]
  },
  {
   "cell_type": "code",
   "execution_count": 130,
   "id": "e5976302",
   "metadata": {},
   "outputs": [],
   "source": [
    "X = datasets.load_digits().data\n",
    "y = datasets.load_digits().target\n",
    "X_train, X_test, y_train, y_test = train_test_split(X, y, test_size=0.33, random_state=42)"
   ]
  },
  {
   "cell_type": "code",
   "execution_count": 131,
   "id": "d5839ce7",
   "metadata": {},
   "outputs": [],
   "source": [
    "def create_model(model_type):\n",
    "    if model_type == 1:\n",
    "        model = LogisticRegression(solver=\"lbfgs\", max_iter=10000)\n",
    "    return model\n",
    "\n",
    "num_devices = 10\n",
    "model_type = 1\n",
    "num_epochs = 2\n",
    "\n",
    "\n",
    "def main(model_type):\n",
    "    X_train_split = np.array_split(X_train, num_devices)\n",
    "    y_train_split = np.array_split(y_train, num_devices)\n",
    "    test_model = create_model(model_type)\n",
    "    test_model.fit(X_train[0:50], y_train[0:50])\n",
    "    avg_coef = np.zeros(np.shape(test_model.coef_))\n",
    "    avg_intercept = np.zeros(np.shape(test_model.intercept_))\n",
    "    for epoch in range(num_epochs):\n",
    "        for k in range(num_devices):\n",
    "            model = create_model(model_type)\n",
    "            if epoch < 1:\n",
    "                model.fit(X_train_split[k], y_train_split[k])\n",
    "            else:\n",
    "                model.fit(X_train[0:50], y_train[0:50])\n",
    "                model.coef_ = avg_coef/(num_devices*epoch)\n",
    "                model.intercept_ = avg_intercept/(num_devices*epoch)\n",
    "                model.fit(X_train_split[k], y_train_split[k])\n",
    "            avg_coef += model.coef_\n",
    "            avg_intercept += model.intercept_\n",
    "    \n",
    "    final_coef = avg_coef/(num_devices*num_epochs)\n",
    "    final_intercept = avg_intercept/(num_devices*num_epochs)\n",
    "    final_model = create_model(model_type)\n",
    "    final_model.fit(X_train[0:50], y_train[0:50])\n",
    "    final_model.coef_ = final_coef\n",
    "    final_model.intercept_ = final_intercept\n",
    "    \n",
    "    return final_model.score(X_test, y_test)\n",
    "    \n"
   ]
  },
  {
   "cell_type": "code",
   "execution_count": 127,
   "id": "57b2e033",
   "metadata": {
    "scrolled": true
   },
   "outputs": [
    {
     "name": "stdout",
     "output_type": "stream",
     "text": [
      "0.9494949494949495\n"
     ]
    }
   ],
   "source": [
    "score = main(1)\n",
    "print(score)"
   ]
  }
 ],
 "metadata": {
  "kernelspec": {
   "display_name": "Python 3 (ipykernel)",
   "language": "python",
   "name": "python3"
  },
  "language_info": {
   "codemirror_mode": {
    "name": "ipython",
    "version": 3
   },
   "file_extension": ".py",
   "mimetype": "text/x-python",
   "name": "python",
   "nbconvert_exporter": "python",
   "pygments_lexer": "ipython3",
   "version": "3.9.16"
  }
 },
 "nbformat": 4,
 "nbformat_minor": 5
}
