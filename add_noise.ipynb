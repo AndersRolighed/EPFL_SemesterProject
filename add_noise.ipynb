{
 "cells": [
  {
   "cell_type": "code",
   "execution_count": 4,
   "id": "4218dfdf",
   "metadata": {},
   "outputs": [],
   "source": [
    "from torchvision import datasets\n",
    "from torch.utils.data import DataLoader\n",
    "from torchvision.utils import save_image\n",
    "from skimage.util import random_noise\n",
    "import numpy as np\n",
    "import torch\n",
    "import matplotlib.pyplot as plt\n",
    "import torchvision.transforms as transforms\n",
    "import argparse"
   ]
  },
  {
   "cell_type": "code",
   "execution_count": 6,
   "id": "22233dfc",
   "metadata": {},
   "outputs": [],
   "source": [
    "BATCH_SIZE = 4"
   ]
  },
  {
   "cell_type": "code",
   "execution_count": null,
   "id": "24528382",
   "metadata": {},
   "outputs": [],
   "source": [
    "ap = argparse.ArgumentParser()\n",
    "ap.add_argument(\n",
    "    '-d', '--dataset', type=str, \n",
    "    help='dataset to use'\n",
    ")\n",
    "args = vars(ap.parse_args())"
   ]
  },
  {
   "cell_type": "code",
   "execution_count": null,
   "id": "917f937c",
   "metadata": {},
   "outputs": [],
   "source": [
    "if args['dataset'] == 'mnist' or args['dataset'] == 'fashionmnist':  \n",
    "    transform = transforms.Compose([\n",
    "        transforms.ToTensor(),\n",
    "        transforms.Normalize((0.5,), (0.5,)), \n",
    "    ])\n",
    "    if args['dataset'] == 'mnist':\n",
    "        trainset = datasets.MNIST(\n",
    "            root='./data',\n",
    "            train=True,\n",
    "            download=True, \n",
    "            transform=transform\n",
    "        )\n",
    "        testset = datasets.MNIST(\n",
    "            root='./data',\n",
    "            train=False,\n",
    "            download=True,\n",
    "            transform=transform\n",
    "        )\n",
    "    elif args['dataset'] == 'fashionmnist':\n",
    "        trainset = datasets.FashionMNIST(\n",
    "            root='./data',\n",
    "            train=True,\n",
    "            download=True, \n",
    "            transform=transform\n",
    "        )\n",
    "        testset = datasets.FashionMNIST(\n",
    "            root='./data',\n",
    "            train=False,\n",
    "            download=True,\n",
    "            transform=transform\n",
    "        )\n",
    "if args['dataset'] == 'cifar10':\n",
    "    transform = transforms.Compose([\n",
    "        transforms.ToTensor(),\n",
    "        transforms.Normalize((0.5, 0.5, 0.5), (0.5, 0.5, 0.5)), \n",
    "    ])\n",
    "    trainset = datasets.CIFAR10(\n",
    "        root='./data',\n",
    "        train=True,\n",
    "        download=True, \n",
    "        transform=transform\n",
    "    )\n",
    "    testset = datasets.CIFAR10(\n",
    "        root='./data',\n",
    "        train=False,\n",
    "        download=True,\n",
    "        transform=transform\n",
    "    )"
   ]
  },
  {
   "cell_type": "code",
   "execution_count": 7,
   "id": "2915c524",
   "metadata": {},
   "outputs": [
    {
     "ename": "NameError",
     "evalue": "name 'trainset' is not defined",
     "output_type": "error",
     "traceback": [
      "\u001b[1;31m---------------------------------------------------------------------------\u001b[0m",
      "\u001b[1;31mNameError\u001b[0m                                 Traceback (most recent call last)",
      "Cell \u001b[1;32mIn[7], line 2\u001b[0m\n\u001b[0;32m      1\u001b[0m trainloader \u001b[38;5;241m=\u001b[39m torch\u001b[38;5;241m.\u001b[39mutils\u001b[38;5;241m.\u001b[39mdata\u001b[38;5;241m.\u001b[39mDataLoader(\n\u001b[1;32m----> 2\u001b[0m     \u001b[43mtrainset\u001b[49m, \n\u001b[0;32m      3\u001b[0m     batch_size\u001b[38;5;241m=\u001b[39mBATCH_SIZE,\n\u001b[0;32m      4\u001b[0m     shuffle\u001b[38;5;241m=\u001b[39m\u001b[38;5;28;01mTrue\u001b[39;00m\n\u001b[0;32m      5\u001b[0m )\n\u001b[0;32m      6\u001b[0m testloader \u001b[38;5;241m=\u001b[39m torch\u001b[38;5;241m.\u001b[39mutils\u001b[38;5;241m.\u001b[39mdata\u001b[38;5;241m.\u001b[39mDataLoader(\n\u001b[0;32m      7\u001b[0m     testset, \n\u001b[0;32m      8\u001b[0m     batch_size\u001b[38;5;241m=\u001b[39mBATCH_SIZE,\n\u001b[0;32m      9\u001b[0m     shuffle\u001b[38;5;241m=\u001b[39m\u001b[38;5;28;01mFalse\u001b[39;00m\n\u001b[0;32m     10\u001b[0m )\n",
      "\u001b[1;31mNameError\u001b[0m: name 'trainset' is not defined"
     ]
    }
   ],
   "source": [
    "trainloader = torch.utils.data.DataLoader(\n",
    "    trainset, \n",
    "    batch_size=BATCH_SIZE,\n",
    "    shuffle=False\n",
    ")\n",
    "testloader = torch.utils.data.DataLoader(\n",
    "    testset, \n",
    "    batch_size=BATCH_SIZE,\n",
    "    shuffle=False\n",
    ")"
   ]
  },
  {
   "cell_type": "code",
   "execution_count": 8,
   "id": "ed8d508e",
   "metadata": {},
   "outputs": [],
   "source": [
    "def save_noisy_image(img, name):\n",
    "    if img.size(1) == 3:\n",
    "        img = img.view(img.size(0), 3, 32, 32)\n",
    "        save_image(img, name)\n",
    "    else:\n",
    "        img = img.view(img.size(0), 1, 28, 28)\n",
    "        save_image(img, name)"
   ]
  },
  {
   "cell_type": "code",
   "execution_count": 10,
   "id": "5c45c4ad",
   "metadata": {},
   "outputs": [],
   "source": [
    "def poisson_noise():\n",
    "    for data in trainloader:\n",
    "        img, _ = data[0], data[1]\n",
    "        gauss_img = torch.tensor(random_noise(img, mode='poisson', clip=True))\n",
    "        save_noisy_image(gauss_img, f\"Images/{args['dataset']}_poisson.png\")\n",
    "        break"
   ]
  },
  {
   "cell_type": "code",
   "execution_count": null,
   "id": "ba447696",
   "metadata": {},
   "outputs": [],
   "source": [
    "poisson_noise()\n"
   ]
  }
 ],
 "metadata": {
  "kernelspec": {
   "display_name": "Python 3 (ipykernel)",
   "language": "python",
   "name": "python3"
  },
  "language_info": {
   "codemirror_mode": {
    "name": "ipython",
    "version": 3
   },
   "file_extension": ".py",
   "mimetype": "text/x-python",
   "name": "python",
   "nbconvert_exporter": "python",
   "pygments_lexer": "ipython3",
   "version": "3.9.16"
  }
 },
 "nbformat": 4,
 "nbformat_minor": 5
}
