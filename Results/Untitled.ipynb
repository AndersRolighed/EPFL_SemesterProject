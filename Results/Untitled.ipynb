{
 "cells": [
  {
   "cell_type": "code",
   "execution_count": 3,
   "id": "4d947b2b",
   "metadata": {},
   "outputs": [
    {
     "name": "stdout",
     "output_type": "stream",
     "text": [
      "{1: tensor(0.9564), 2: tensor(0.9839), 3: tensor(0.9813), 4: tensor(0.9765), 5: tensor(0.9784), 6: tensor(0.9766), 7: tensor(0.9775), 8: tensor(0.9793), 9: tensor(0.9803), 10: tensor(0.9734), 11: tensor(0.9768), 12: tensor(0.9810), 13: tensor(0.9777), 14: tensor(0.9731), 15: tensor(0.9767), 16: tensor(0.9752), 17: tensor(0.9653), 18: tensor(0.9763), 19: tensor(0.9747), 20: tensor(0.9763)}\n"
     ]
    }
   ],
   "source": [
    "import pickle\n",
    "\n",
    "pickleFile = open(\"CNN_MNIST_20_C5_0.5_Labels\",\"rb\")\n",
    "\n",
    "personInfo = pickle.load(open(\"CNN_MNIST_20_C5_0.5_Labels\", \"rb\"))\n",
    "print (personInfo)"
   ]
  },
  {
   "cell_type": "code",
   "execution_count": 4,
   "id": "35184226",
   "metadata": {},
   "outputs": [
    {
     "name": "stdout",
     "output_type": "stream",
     "text": [
      "{1: tensor(0.9075), 2: tensor(0.9305)}\n"
     ]
    }
   ],
   "source": [
    "import pickle\n",
    "\n",
    "pickleFile = open(\"NN_MNIST_20_C5_0.65_Labels\",\"rb\")\n",
    "\n",
    "personInfo = pickle.load(open(\"NN_MNIST_20_C5_0.5_Labels\", \"rb\"))\n",
    "print (personInfo)"
   ]
  },
  {
   "cell_type": "code",
   "execution_count": 13,
   "id": "8a372519",
   "metadata": {},
   "outputs": [
    {
     "name": "stdout",
     "output_type": "stream",
     "text": [
      "{1: tensor(0.0914), 2: tensor(0.0322), 3: tensor(0.0567), 4: tensor(0.0450), 5: tensor(0.0357), 6: tensor(0.0289), 7: tensor(0.0334), 8: tensor(0.0302), 9: tensor(0.0743), 10: tensor(0.0412)}\n"
     ]
    }
   ],
   "source": [
    "import pickle\n",
    "\n",
    "pickleFile = open(\"NN_MNIST_20_C5_0.05_Labels\",\"rb\")\n",
    "\n",
    "personInfo = pickle.load(open(\"NN_MNIST_20_C5_0.95_Labels\", \"rb\"))\n",
    "print (personInfo)"
   ]
  },
  {
   "cell_type": "code",
   "execution_count": 12,
   "id": "4d46b313",
   "metadata": {},
   "outputs": [
    {
     "name": "stdout",
     "output_type": "stream",
     "text": [
      "{1: tensor(0.0074), 2: tensor(0.0017), 3: tensor(0.0004), 4: tensor(0.0005), 5: tensor(0.0006), 6: tensor(0.0005), 7: tensor(0.0005), 8: tensor(0.0004), 9: tensor(0.0003), 10: tensor(0.0004)}\n"
     ]
    }
   ],
   "source": [
    "import pickle\n",
    "\n",
    "pickleFile = open(\"NN_MNIST_20_C5_0.05_Labels\",\"rb\")\n",
    "\n",
    "personInfo = pickle.load(open(\"CNN_MNIST_20_C5_0.95_Labels\", \"rb\"))\n",
    "print (personInfo)"
   ]
  },
  {
   "cell_type": "code",
   "execution_count": 16,
   "id": "29e3336c",
   "metadata": {},
   "outputs": [
    {
     "name": "stdout",
     "output_type": "stream",
     "text": [
      "{1: tensor(0.9220), 2: tensor(0.9241), 3: tensor(0.9250), 4: tensor(0.9252), 5: tensor(0.9255), 6: tensor(0.9246), 7: tensor(0.9223), 8: tensor(0.9262), 9: tensor(0.9217), 10: tensor(0.9247)}\n"
     ]
    }
   ],
   "source": [
    "import pickle\n",
    "\n",
    "pickleFile = open(\"LReg_MNIST_10_C5_0.95_Labels\",\"rb\")\n",
    "\n",
    "personInfo = pickle.load(open(\"LReg_MNIST_10_C5_0.95_Labels\", \"rb\"))\n",
    "print (personInfo)"
   ]
  },
  {
   "cell_type": "code",
   "execution_count": null,
   "id": "f91c1990",
   "metadata": {},
   "outputs": [],
   "source": []
  }
 ],
 "metadata": {
  "kernelspec": {
   "display_name": "Python 3 (ipykernel)",
   "language": "python",
   "name": "python3"
  },
  "language_info": {
   "codemirror_mode": {
    "name": "ipython",
    "version": 3
   },
   "file_extension": ".py",
   "mimetype": "text/x-python",
   "name": "python",
   "nbconvert_exporter": "python",
   "pygments_lexer": "ipython3",
   "version": "3.9.16"
  }
 },
 "nbformat": 4,
 "nbformat_minor": 5
}
