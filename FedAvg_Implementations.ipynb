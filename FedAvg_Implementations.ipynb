{
 "cells": [
  {
   "cell_type": "markdown",
   "id": "3da8e7f9",
   "metadata": {},
   "source": [
    "### FedAvg algorithm, currently working for both Logistic Regression and 1 hidden layer NN.\n",
    "##### See bottom for specific calls\n",
    "https://towardsdatascience.com/logistic-regression-with-pytorch-3c8bbea594be\n"
   ]
  },
  {
   "cell_type": "code",
   "execution_count": 61,
   "id": "0656c44c",
   "metadata": {},
   "outputs": [],
   "source": [
    "%run -i DataCorruption.ipynb"
   ]
  },
  {
   "cell_type": "code",
   "execution_count": 94,
   "id": "2549b91c",
   "metadata": {},
   "outputs": [],
   "source": [
    "# Define neural network model\n",
    "class NeuralNetwork(nn.Module):\n",
    "    def __init__(self, id, **kwargs):\n",
    "        super(NeuralNetwork, self).__init__()\n",
    "        self.id = id\n",
    "        for key, value in kwargs.items():\n",
    "            setattr(self, key, value)\n",
    "        self.linear1 = nn.Linear(input_dim, hidden_dim)\n",
    "        self.relu = nn.ReLU()\n",
    "        self.linear2 = nn.Linear(hidden_dim, output_dim)\n",
    "\n",
    "    def forward(self, x):\n",
    "        out = self.linear1(x)\n",
    "        out = self.relu(out)\n",
    "        out = self.linear2(out)\n",
    "        return out"
   ]
  },
  {
   "cell_type": "code",
   "execution_count": 114,
   "id": "58b80801",
   "metadata": {},
   "outputs": [],
   "source": [
    "# Define logistic regression model\n",
    "class LogisticRegression(nn.Module):\n",
    "    def __init__(self, id, **kwargs):\n",
    "        super(LogisticRegression, self).__init__()\n",
    "        self.id = id\n",
    "        for key, value in kwargs.items():\n",
    "            setattr(self, key, value)\n",
    "        self.linear = nn.Linear(input_dim, output_dim)\n",
    "\n",
    "    def forward(self, x):\n",
    "        out = self.linear(x)\n",
    "        return out\n"
   ]
  },
  {
   "cell_type": "code",
   "execution_count": 118,
   "id": "bc218b75",
   "metadata": {},
   "outputs": [],
   "source": [
    "\n",
    "# Currently only allows for scrambling of labels as the corruption method\n",
    "\n",
    "def FedAvg(model, data, model_params, training_params, corrupted=False, cp=0.5):\n",
    "    model_dict = {1: NeuralNetwork, 2: LogisticRegression}\n",
    "    \n",
    "    for (k,v) in training_params.items():\n",
    "          exec(f'{k} = {v}')\n",
    "    \n",
    "    \n",
    "    if data == \"MNIST\":\n",
    "        # Load MNIST dataset - Normalized (MEAN STD)\n",
    "        transform = transforms.Compose([transforms.ToTensor(), transforms.Normalize((0.1307,), (0.3081,))])\n",
    "        train_dataset = datasets.MNIST('../data', train=True, download=True, transform=transform)\n",
    "    \n",
    "    # Split data among clients\n",
    "    central_datasets = torch.utils.data.random_split(train_dataset, [len(train_dataset) // num_clients] * num_clients)\n",
    "    \n",
    "    # Initialize global model\n",
    "    central_model = model_dict[model](model_params)\n",
    "\n",
    "    # Train global model using federated averaging\n",
    "    central_optimizer = optim.SGD(central_model.parameters(), lr=lr)\n",
    "    central_criterion = nn.CrossEntropyLoss()\n",
    "\n",
    "    for epoch in range(epochs):\n",
    "        central_model.train()\n",
    "\n",
    "        # Train local models on each client\n",
    "        local_models = []\n",
    "        for client_dataset in client_datasets:\n",
    "            local_model = model_dict[model](model_params)\n",
    "            local_model.load_state_dict(central_model.state_dict())\n",
    "            local_optimizer = optim.SGD(local_model.parameters(), lr=lr)\n",
    "            local_criterion = nn.CrossEntropyLoss()\n",
    "\n",
    "            for local_epoch in range(epochs):\n",
    "                local_model.train()\n",
    "\n",
    "                for local_data, local_target in torch.utils.data.DataLoader(client_dataset, batch_size=batch_size, shuffle=True):\n",
    "                    if corrupt:\n",
    "                        local_target = torch.as_tensor(data_corruption(3, local_data, local_target.tolist(), cp)).type(torch.LongTensor)\n",
    "                    local_optimizer.zero_grad()\n",
    "                    local_output = local_model(local_data.view(local_data.shape[0], -1))\n",
    "                    local_loss = local_criterion(local_output, local_target)\n",
    "                    local_loss.backward()\n",
    "                    local_optimizer.step()\n",
    "\n",
    "            local_models.append(local_model)\n",
    "\n",
    "        # Update global model using federated averaging\n",
    "        for name, param in central_model.named_parameters():\n",
    "            if name.endswith('.bias'):\n",
    "                continue\n",
    "\n",
    "            local_params = torch.stack([local_model.state_dict()[name] for local_model in local_models])\n",
    "            central_mean = local_params.mean(0)\n",
    "            param.data = central_mean.data\n",
    "\n",
    "        central_loss = 0\n",
    "        central_accuracy = 0\n",
    "        central_optimizer.zero_grad()\n",
    "\n",
    "        for central_data, central_target in torch.utils.data.DataLoader(train_dataset, batch_size=batch_size, shuffle=True):\n",
    "            central_output = central_model(central_data.view(central_data.shape[0], -1))\n",
    "            central_loss += central_criterion(central_output, central_target)\n",
    "            central_accuracy += (central_output.argmax(1) == central_target).float().sum()\n",
    "\n",
    "        central_loss /= len(train_dataset)\n",
    "        central_accuracy /= len(train_dataset)\n",
    "\n",
    "        central_loss.backward()\n",
    "        central_optimizer.step()\n",
    "\n",
    "        print(f'Epoch {epoch+1} - Global Loss: {central_loss:.4f}, Global Accuracy: {central_accuracy:.4f}')\n"
   ]
  },
  {
   "cell_type": "markdown",
   "id": "d6fe4dab",
   "metadata": {},
   "source": [
    "### NN"
   ]
  },
  {
   "cell_type": "code",
   "execution_count": 119,
   "id": "ae4e8324",
   "metadata": {},
   "outputs": [
    {
     "name": "stdout",
     "output_type": "stream",
     "text": [
      "Epoch 1 - Global Loss: 0.0697, Global Accuracy: 0.3515\n",
      "Epoch 2 - Global Loss: 0.0695, Global Accuracy: 0.4629\n"
     ]
    }
   ],
   "source": [
    "training_params = {\"epochs\": 2, \"lr\": 0.01, \"batch_size\": 32, \"num_clients\": 4}\n",
    "model_params = {\"input_dim\": 728, \"hidden_dim\": 128, \"output_dim\": 10}\n",
    "FedAvg(1, \"MNIST\", model_params, training_params, corrupted=True, cp=0.9)"
   ]
  },
  {
   "cell_type": "markdown",
   "id": "4f463510",
   "metadata": {},
   "source": [
    "### Logistic Regression"
   ]
  },
  {
   "cell_type": "code",
   "execution_count": 120,
   "id": "eb83de86",
   "metadata": {},
   "outputs": [
    {
     "name": "stdout",
     "output_type": "stream",
     "text": [
      "Epoch 1 - Global Loss: 0.0694, Global Accuracy: 0.2085\n",
      "Epoch 2 - Global Loss: 0.0683, Global Accuracy: 0.2913\n"
     ]
    }
   ],
   "source": [
    "training_params = {\"epochs\": 2, \"lr\": 0.01, \"batch_size\": 32, \"num_clients\": 4}\n",
    "model_params = {\"input_dim\": 728, \"output_dim\": 10}\n",
    "FedAvg(2, \"MNIST\", model_params, training_params, corrupted=True, cp=0.9)"
   ]
  }
 ],
 "metadata": {
  "kernelspec": {
   "display_name": "Python 3 (ipykernel)",
   "language": "python",
   "name": "python3"
  },
  "language_info": {
   "codemirror_mode": {
    "name": "ipython",
    "version": 3
   },
   "file_extension": ".py",
   "mimetype": "text/x-python",
   "name": "python",
   "nbconvert_exporter": "python",
   "pygments_lexer": "ipython3",
   "version": "3.9.16"
  }
 },
 "nbformat": 4,
 "nbformat_minor": 5
}
